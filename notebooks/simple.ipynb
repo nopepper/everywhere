{
 "cells": [
  {
   "cell_type": "code",
   "execution_count": 1,
   "id": "229ff59c",
   "metadata": {},
   "outputs": [
    {
     "name": "stdout",
     "output_type": "stream",
     "text": [
      "Setup done\n"
     ]
    },
    {
     "data": {
      "application/vnd.jupyter.widget-view+json": {
       "model_id": "2adf1f101f6d46ba98936437e9654439",
       "version_major": 2,
       "version_minor": 0
      },
      "text/plain": [
       "Processing tree:   0%|          | 0/3 [00:00<?, ?it/s]"
      ]
     },
     "metadata": {},
     "output_type": "display_data"
    }
   ],
   "source": [
    "from everywhere.handlers.router import process_files\n",
    "from everywhere.embedders.text import setup_session_and_tokenizer\n",
    "from everywhere.simple_index import SimpleIndex\n",
    "\n",
    "setup_session_and_tokenizer(\n",
    "    model_path=\"../models/all-MiniLM-L6-v2/onnx/model_quint8_avx2.onnx\",\n",
    "    tokenizer_path=\"../models/all-MiniLM-L6-v2\",\n",
    ")\n",
    "print(\"Setup done\")\n",
    "\n",
    "index = SimpleIndex()\n",
    "\n",
    "for obj in process_files(\"../data_test\"):\n",
    "    index.add(obj)"
   ]
  },
  {
   "cell_type": "code",
   "execution_count": 2,
   "id": "bb5411ea",
   "metadata": {},
   "outputs": [
    {
     "data": {
      "text/plain": [
       "[QueryResult(obj=EmbeddedObject(key=(384,), value=../data_test/berlin.txt), similarity=0.585),\n",
       " QueryResult(obj=EmbeddedObject(key=(384,), value=../data_test/apples.txt), similarity=0.04),\n",
       " QueryResult(obj=EmbeddedObject(key=(384,), value=../data_test/cat.txt), similarity=-0.038)]"
      ]
     },
     "execution_count": 2,
     "metadata": {},
     "output_type": "execute_result"
    }
   ],
   "source": [
    "from everywhere.base import EmbeddedObject\n",
    "from everywhere.embedders.text import embed_single\n",
    "\n",
    "\n",
    "index.query(EmbeddedObject(key=embed_single(\"What is the capital of Germany?\"), value=\"\"))"
   ]
  }
 ],
 "metadata": {
  "kernelspec": {
   "display_name": ".venv",
   "language": "python",
   "name": "python3"
  },
  "language_info": {
   "codemirror_mode": {
    "name": "ipython",
    "version": 3
   },
   "file_extension": ".py",
   "mimetype": "text/x-python",
   "name": "python",
   "nbconvert_exporter": "python",
   "pygments_lexer": "ipython3",
   "version": "3.13.7"
  }
 },
 "nbformat": 4,
 "nbformat_minor": 5
}
