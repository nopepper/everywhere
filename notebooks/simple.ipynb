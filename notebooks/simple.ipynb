{
 "cells": [
  {
   "cell_type": "code",
   "execution_count": 1,
   "id": "229ff59c",
   "metadata": {},
   "outputs": [],
   "source": [
    "from everywhere.search_providers.fs_search import FSSearchProvider\n",
    "from everywhere.search_providers.onnx_text_search import ONNXTextSearchProvider\n",
    "from everywhere.watchers.fs_watcher import FSWatcher\n",
    "from pathlib import Path\n",
    "\n",
    "watcher = FSWatcher(\n",
    "    fs_path=Path(\"../data_test\"),\n",
    ")\n",
    "text_search = ONNXTextSearchProvider(\n",
    "    onnx_model_path=Path(\"../models/all-MiniLM-L6-v2/onnx/model_quint8_avx2.onnx\"),\n",
    "    tokenizer_path=Path(\"../models/all-MiniLM-L6-v2\"),\n",
    ")\n",
    "fs_search = FSSearchProvider(\n",
    "    text_handlers=[text_search],\n",
    "    watcher=watcher,\n",
    ")\n",
    "fs_search.setup()"
   ]
  },
  {
   "cell_type": "code",
   "execution_count": 2,
   "id": "bb5411ea",
   "metadata": {},
   "outputs": [
    {
     "data": {
      "text/plain": [
       "[SearchResult(data=PosixPath('../data_test/berlin.txt'), confidence=0.5584549878292246),\n",
       " SearchResult(data=PosixPath('../data_test/apples.txt'), confidence=0.03973543362598581),\n",
       " SearchResult(data=PosixPath('../data_test/cat.txt'), confidence=0.029875589867424966)]"
      ]
     },
     "execution_count": 2,
     "metadata": {},
     "output_type": "execute_result"
    }
   ],
   "source": [
    "from everywhere.search_providers.search_provider import SearchQuery\n",
    "\n",
    "fs_search.search(SearchQuery(text=\"What is the capital of Germany?\"))"
   ]
  }
 ],
 "metadata": {
  "kernelspec": {
   "display_name": ".venv",
   "language": "python",
   "name": "python3"
  },
  "language_info": {
   "codemirror_mode": {
    "name": "ipython",
    "version": 3
   },
   "file_extension": ".py",
   "mimetype": "text/x-python",
   "name": "python",
   "nbconvert_exporter": "python",
   "pygments_lexer": "ipython3",
   "version": "3.13.7"
  }
 },
 "nbformat": 4,
 "nbformat_minor": 5
}
